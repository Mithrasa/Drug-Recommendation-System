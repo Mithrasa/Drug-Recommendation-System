{
  "cells": [
    {
      "cell_type": "code",
      "execution_count": 49,
      "metadata": {
        "colab": {
          "base_uri": "https://localhost:8080/"
        },
        "id": "zBrwG_2CB8Y4",
        "outputId": "2ccafb1d-1991-45b1-961b-b00db1aca481"
      },
      "outputs": [],
      "source": [
        "# from google.colab import drive\n",
        "# drive.mount('/content/drive',force_remount=True)"
      ]
    },
    {
      "cell_type": "code",
      "execution_count": 50,
      "metadata": {},
      "outputs": [],
      "source": [
        "# To detect diseases from symptoms and recommend Ayurvedic medicine"
      ]
    },
    {
      "cell_type": "code",
      "execution_count": 51,
      "metadata": {},
      "outputs": [],
      "source": [
        "import pandas as pd # data preprocessing\n",
        "import itertools # confusion matrix\n",
        "import string\n",
        "import numpy as np\n",
        "import seaborn as sns\n",
        "from sklearn.feature_extraction.text import CountVectorizer, TfidfVectorizer\n",
        "from sklearn.model_selection import train_test_split\n",
        "from sklearn.linear_model import PassiveAggressiveClassifier\n",
        "from sklearn.naive_bayes import MultinomialNB\n",
        "from sklearn import metrics\n",
        "import matplotlib.pyplot as plt\n",
        "%matplotlib inline\n",
        "# To show all the rows of pandas dataframe\n",
        "pd.set_option('display.max_rows', None)"
      ]
    },
    {
      "cell_type": "code",
      "execution_count": 52,
      "metadata": {
        "id": "XygQyN-8AYOJ"
      },
      "outputs": [],
      "source": [
        "df = pd.read_csv(\"drugsComTrain_raw.tsv\",sep=\"\\t\")"
      ]
    },
    {
      "cell_type": "code",
      "execution_count": 53,
      "metadata": {
        "colab": {
          "base_uri": "https://localhost:8080/"
        },
        "id": "O7TNRjlzAYON",
        "outputId": "93fc80b6-346d-45de-ed11-191a933710b6"
      },
      "outputs": [
        {
          "name": "stderr",
          "output_type": "stream",
          "text": [
            "[nltk_data] Downloading package stopwords to\n",
            "[nltk_data]     C:\\Users\\BaAr349\\AppData\\Roaming\\nltk_data...\n",
            "[nltk_data]   Package stopwords is already up-to-date!\n"
          ]
        },
        {
          "data": {
            "text/plain": [
              "True"
            ]
          },
          "execution_count": 53,
          "metadata": {},
          "output_type": "execute_result"
        }
      ],
      "source": [
        "import nltk\n",
        "nltk.download('stopwords')"
      ]
    },
    {
      "cell_type": "code",
      "execution_count": 54,
      "metadata": {
        "colab": {
          "base_uri": "https://localhost:8080/",
          "height": 81
        },
        "id": "VQamNGlDAYOO",
        "outputId": "daba704a-e186-468e-9946-45c18fc87e26"
      },
      "outputs": [
        {
          "data": {
            "text/html": [
              "<div>\n",
              "<style scoped>\n",
              "    .dataframe tbody tr th:only-of-type {\n",
              "        vertical-align: middle;\n",
              "    }\n",
              "\n",
              "    .dataframe tbody tr th {\n",
              "        vertical-align: top;\n",
              "    }\n",
              "\n",
              "    .dataframe thead th {\n",
              "        text-align: right;\n",
              "    }\n",
              "</style>\n",
              "<table border=\"1\" class=\"dataframe\">\n",
              "  <thead>\n",
              "    <tr style=\"text-align: right;\">\n",
              "      <th></th>\n",
              "      <th>Unnamed: 0</th>\n",
              "      <th>drugName</th>\n",
              "      <th>condition</th>\n",
              "      <th>review</th>\n",
              "      <th>rating</th>\n",
              "      <th>date</th>\n",
              "      <th>usefulCount</th>\n",
              "    </tr>\n",
              "  </thead>\n",
              "  <tbody>\n",
              "    <tr>\n",
              "      <th>0</th>\n",
              "      <td>206461</td>\n",
              "      <td>Valsartan</td>\n",
              "      <td>Left Ventricular Dysfunction</td>\n",
              "      <td>\"It has no side effect, I take it in combinati...</td>\n",
              "      <td>9.0</td>\n",
              "      <td>May 20, 2012</td>\n",
              "      <td>27</td>\n",
              "    </tr>\n",
              "    <tr>\n",
              "      <th>1</th>\n",
              "      <td>95260</td>\n",
              "      <td>Guanfacine</td>\n",
              "      <td>ADHD</td>\n",
              "      <td>\"My son is halfway through his fourth week of ...</td>\n",
              "      <td>8.0</td>\n",
              "      <td>April 27, 2010</td>\n",
              "      <td>192</td>\n",
              "    </tr>\n",
              "    <tr>\n",
              "      <th>2</th>\n",
              "      <td>92703</td>\n",
              "      <td>Lybrel</td>\n",
              "      <td>Birth Control</td>\n",
              "      <td>\"I used to take another oral contraceptive, wh...</td>\n",
              "      <td>5.0</td>\n",
              "      <td>December 14, 2009</td>\n",
              "      <td>17</td>\n",
              "    </tr>\n",
              "    <tr>\n",
              "      <th>3</th>\n",
              "      <td>138000</td>\n",
              "      <td>Ortho Evra</td>\n",
              "      <td>Birth Control</td>\n",
              "      <td>\"This is my first time using any form of birth...</td>\n",
              "      <td>8.0</td>\n",
              "      <td>November 3, 2015</td>\n",
              "      <td>10</td>\n",
              "    </tr>\n",
              "    <tr>\n",
              "      <th>4</th>\n",
              "      <td>35696</td>\n",
              "      <td>Buprenorphine / naloxone</td>\n",
              "      <td>Opiate Dependence</td>\n",
              "      <td>\"Suboxone has completely turned my life around...</td>\n",
              "      <td>9.0</td>\n",
              "      <td>November 27, 2016</td>\n",
              "      <td>37</td>\n",
              "    </tr>\n",
              "    <tr>\n",
              "      <th>5</th>\n",
              "      <td>155963</td>\n",
              "      <td>Cialis</td>\n",
              "      <td>Benign Prostatic Hyperplasia</td>\n",
              "      <td>\"2nd day on 5mg started to work with rock hard...</td>\n",
              "      <td>2.0</td>\n",
              "      <td>November 28, 2015</td>\n",
              "      <td>43</td>\n",
              "    </tr>\n",
              "    <tr>\n",
              "      <th>6</th>\n",
              "      <td>165907</td>\n",
              "      <td>Levonorgestrel</td>\n",
              "      <td>Emergency Contraception</td>\n",
              "      <td>\"He pulled out, but he cummed a bit in me. I t...</td>\n",
              "      <td>1.0</td>\n",
              "      <td>March 7, 2017</td>\n",
              "      <td>5</td>\n",
              "    </tr>\n",
              "    <tr>\n",
              "      <th>7</th>\n",
              "      <td>102654</td>\n",
              "      <td>Aripiprazole</td>\n",
              "      <td>Bipolar Disorde</td>\n",
              "      <td>\"Abilify changed my life. There is hope. I was...</td>\n",
              "      <td>10.0</td>\n",
              "      <td>March 14, 2015</td>\n",
              "      <td>32</td>\n",
              "    </tr>\n",
              "    <tr>\n",
              "      <th>8</th>\n",
              "      <td>74811</td>\n",
              "      <td>Keppra</td>\n",
              "      <td>Epilepsy</td>\n",
              "      <td>\" I Ve had  nothing but problems with the Kepp...</td>\n",
              "      <td>1.0</td>\n",
              "      <td>August 9, 2016</td>\n",
              "      <td>11</td>\n",
              "    </tr>\n",
              "    <tr>\n",
              "      <th>9</th>\n",
              "      <td>48928</td>\n",
              "      <td>Ethinyl estradiol / levonorgestrel</td>\n",
              "      <td>Birth Control</td>\n",
              "      <td>\"I had been on the pill for many years. When m...</td>\n",
              "      <td>8.0</td>\n",
              "      <td>December 8, 2016</td>\n",
              "      <td>1</td>\n",
              "    </tr>\n",
              "  </tbody>\n",
              "</table>\n",
              "</div>"
            ],
            "text/plain": [
              "   Unnamed: 0                            drugName  \\\n",
              "0      206461                           Valsartan   \n",
              "1       95260                          Guanfacine   \n",
              "2       92703                              Lybrel   \n",
              "3      138000                          Ortho Evra   \n",
              "4       35696            Buprenorphine / naloxone   \n",
              "5      155963                              Cialis   \n",
              "6      165907                      Levonorgestrel   \n",
              "7      102654                        Aripiprazole   \n",
              "8       74811                              Keppra   \n",
              "9       48928  Ethinyl estradiol / levonorgestrel   \n",
              "\n",
              "                      condition  \\\n",
              "0  Left Ventricular Dysfunction   \n",
              "1                          ADHD   \n",
              "2                 Birth Control   \n",
              "3                 Birth Control   \n",
              "4             Opiate Dependence   \n",
              "5  Benign Prostatic Hyperplasia   \n",
              "6       Emergency Contraception   \n",
              "7               Bipolar Disorde   \n",
              "8                      Epilepsy   \n",
              "9                 Birth Control   \n",
              "\n",
              "                                              review  rating  \\\n",
              "0  \"It has no side effect, I take it in combinati...     9.0   \n",
              "1  \"My son is halfway through his fourth week of ...     8.0   \n",
              "2  \"I used to take another oral contraceptive, wh...     5.0   \n",
              "3  \"This is my first time using any form of birth...     8.0   \n",
              "4  \"Suboxone has completely turned my life around...     9.0   \n",
              "5  \"2nd day on 5mg started to work with rock hard...     2.0   \n",
              "6  \"He pulled out, but he cummed a bit in me. I t...     1.0   \n",
              "7  \"Abilify changed my life. There is hope. I was...    10.0   \n",
              "8  \" I Ve had  nothing but problems with the Kepp...     1.0   \n",
              "9  \"I had been on the pill for many years. When m...     8.0   \n",
              "\n",
              "                date  usefulCount  \n",
              "0       May 20, 2012           27  \n",
              "1     April 27, 2010          192  \n",
              "2  December 14, 2009           17  \n",
              "3   November 3, 2015           10  \n",
              "4  November 27, 2016           37  \n",
              "5  November 28, 2015           43  \n",
              "6      March 7, 2017            5  \n",
              "7     March 14, 2015           32  \n",
              "8     August 9, 2016           11  \n",
              "9   December 8, 2016            1  "
            ]
          },
          "execution_count": 54,
          "metadata": {},
          "output_type": "execute_result"
        }
      ],
      "source": [
        "df.head(10)"
      ]
    },
    {
      "cell_type": "code",
      "execution_count": 55,
      "metadata": {
        "colab": {
          "base_uri": "https://localhost:8080/",
          "height": 36
        },
        "id": "daVgG6LjAYOO",
        "outputId": "5294f3f1-ccbf-4823-860e-4aec28118468"
      },
      "outputs": [],
      "source": [
        "# df.review[62]"
      ]
    },
    {
      "cell_type": "code",
      "execution_count": 56,
      "metadata": {
        "colab": {
          "base_uri": "https://localhost:8080/"
        },
        "id": "daKvUyVeAYOO",
        "outputId": "69f7da36-e562-429a-c3ab-8056e4fd1aa9"
      },
      "outputs": [
        {
          "data": {
            "text/plain": [
              "drugName\n",
              "Levonorgestrel                        3657\n",
              "Etonogestrel                          3336\n",
              "Ethinyl estradiol / norethindrone     2850\n",
              "Nexplanon                             2156\n",
              "Ethinyl estradiol / norgestimate      2117\n",
              "Ethinyl estradiol / levonorgestrel    1888\n",
              "Phentermine                           1543\n",
              "Sertraline                            1360\n",
              "Escitalopram                          1292\n",
              "Mirena                                1242\n",
              "Name: count, dtype: int64"
            ]
          },
          "execution_count": 56,
          "metadata": {},
          "output_type": "execute_result"
        }
      ],
      "source": [
        "df.drugName.value_counts().sort_values(ascending=False).head(10)"
      ]
    },
    {
      "cell_type": "code",
      "execution_count": 57,
      "metadata": {},
      "outputs": [
        {
          "data": {
            "text/html": [
              "<div>\n",
              "<style scoped>\n",
              "    .dataframe tbody tr th:only-of-type {\n",
              "        vertical-align: middle;\n",
              "    }\n",
              "\n",
              "    .dataframe tbody tr th {\n",
              "        vertical-align: top;\n",
              "    }\n",
              "\n",
              "    .dataframe thead th {\n",
              "        text-align: right;\n",
              "    }\n",
              "</style>\n",
              "<table border=\"1\" class=\"dataframe\">\n",
              "  <thead>\n",
              "    <tr style=\"text-align: right;\">\n",
              "      <th></th>\n",
              "      <th>Unnamed: 0</th>\n",
              "      <th>drugName</th>\n",
              "      <th>condition</th>\n",
              "      <th>review</th>\n",
              "      <th>rating</th>\n",
              "      <th>date</th>\n",
              "      <th>usefulCount</th>\n",
              "    </tr>\n",
              "  </thead>\n",
              "  <tbody>\n",
              "    <tr>\n",
              "      <th>62592</th>\n",
              "      <td>201777</td>\n",
              "      <td>Alprazolam</td>\n",
              "      <td>Anxiety</td>\n",
              "      <td>\"This drug has changed my life. I have always ...</td>\n",
              "      <td>10.0</td>\n",
              "      <td>May 26, 2008</td>\n",
              "      <td>526</td>\n",
              "    </tr>\n",
              "    <tr>\n",
              "      <th>78849</th>\n",
              "      <td>8088</td>\n",
              "      <td>Xanax</td>\n",
              "      <td>Anxiety</td>\n",
              "      <td>\"This drug has changed my life. I have always ...</td>\n",
              "      <td>10.0</td>\n",
              "      <td>May 26, 2008</td>\n",
              "      <td>526</td>\n",
              "    </tr>\n",
              "    <tr>\n",
              "      <th>11501</th>\n",
              "      <td>160851</td>\n",
              "      <td>Buspirone</td>\n",
              "      <td>Anxiety</td>\n",
              "      <td>\"This medication is unbelievable. After 3 days...</td>\n",
              "      <td>10.0</td>\n",
              "      <td>April 27, 2009</td>\n",
              "      <td>520</td>\n",
              "    </tr>\n",
              "    <tr>\n",
              "      <th>145742</th>\n",
              "      <td>204615</td>\n",
              "      <td>BuSpar</td>\n",
              "      <td>Anxiety</td>\n",
              "      <td>\"This medication is unbelievable. After 3 days...</td>\n",
              "      <td>10.0</td>\n",
              "      <td>April 27, 2009</td>\n",
              "      <td>520</td>\n",
              "    </tr>\n",
              "    <tr>\n",
              "      <th>30257</th>\n",
              "      <td>50489</td>\n",
              "      <td>Gabapentin</td>\n",
              "      <td>Anxiety</td>\n",
              "      <td>\"Neurontin has changed my life dramatically. I...</td>\n",
              "      <td>10.0</td>\n",
              "      <td>May 24, 2012</td>\n",
              "      <td>500</td>\n",
              "    </tr>\n",
              "    <tr>\n",
              "      <th>79489</th>\n",
              "      <td>96532</td>\n",
              "      <td>Neurontin</td>\n",
              "      <td>Anxiety</td>\n",
              "      <td>\"Neurontin has changed my life dramatically. I...</td>\n",
              "      <td>10.0</td>\n",
              "      <td>May 24, 2012</td>\n",
              "      <td>500</td>\n",
              "    </tr>\n",
              "    <tr>\n",
              "      <th>81546</th>\n",
              "      <td>201628</td>\n",
              "      <td>Alprazolam</td>\n",
              "      <td>Anxiety</td>\n",
              "      <td>\"Xanax is a miracle for me. I can&amp;#039;t live ...</td>\n",
              "      <td>10.0</td>\n",
              "      <td>December 9, 2008</td>\n",
              "      <td>401</td>\n",
              "    </tr>\n",
              "    <tr>\n",
              "      <th>92996</th>\n",
              "      <td>7928</td>\n",
              "      <td>Xanax</td>\n",
              "      <td>Anxiety</td>\n",
              "      <td>\"Xanax is a miracle for me. I can&amp;#039;t live ...</td>\n",
              "      <td>10.0</td>\n",
              "      <td>December 9, 2008</td>\n",
              "      <td>401</td>\n",
              "    </tr>\n",
              "    <tr>\n",
              "      <th>52126</th>\n",
              "      <td>160844</td>\n",
              "      <td>Buspirone</td>\n",
              "      <td>Anxiety</td>\n",
              "      <td>\"Buspar has been very effective for me in trea...</td>\n",
              "      <td>10.0</td>\n",
              "      <td>April 29, 2008</td>\n",
              "      <td>388</td>\n",
              "    </tr>\n",
              "    <tr>\n",
              "      <th>76292</th>\n",
              "      <td>204657</td>\n",
              "      <td>BuSpar</td>\n",
              "      <td>Anxiety</td>\n",
              "      <td>\"Buspar has been very effective for me in trea...</td>\n",
              "      <td>10.0</td>\n",
              "      <td>April 29, 2008</td>\n",
              "      <td>388</td>\n",
              "    </tr>\n",
              "  </tbody>\n",
              "</table>\n",
              "</div>"
            ],
            "text/plain": [
              "        Unnamed: 0    drugName condition  \\\n",
              "62592       201777  Alprazolam   Anxiety   \n",
              "78849         8088       Xanax   Anxiety   \n",
              "11501       160851   Buspirone   Anxiety   \n",
              "145742      204615      BuSpar   Anxiety   \n",
              "30257        50489  Gabapentin   Anxiety   \n",
              "79489        96532   Neurontin   Anxiety   \n",
              "81546       201628  Alprazolam   Anxiety   \n",
              "92996         7928       Xanax   Anxiety   \n",
              "52126       160844   Buspirone   Anxiety   \n",
              "76292       204657      BuSpar   Anxiety   \n",
              "\n",
              "                                                   review  rating  \\\n",
              "62592   \"This drug has changed my life. I have always ...    10.0   \n",
              "78849   \"This drug has changed my life. I have always ...    10.0   \n",
              "11501   \"This medication is unbelievable. After 3 days...    10.0   \n",
              "145742  \"This medication is unbelievable. After 3 days...    10.0   \n",
              "30257   \"Neurontin has changed my life dramatically. I...    10.0   \n",
              "79489   \"Neurontin has changed my life dramatically. I...    10.0   \n",
              "81546   \"Xanax is a miracle for me. I can&#039;t live ...    10.0   \n",
              "92996   \"Xanax is a miracle for me. I can&#039;t live ...    10.0   \n",
              "52126   \"Buspar has been very effective for me in trea...    10.0   \n",
              "76292   \"Buspar has been very effective for me in trea...    10.0   \n",
              "\n",
              "                    date  usefulCount  \n",
              "62592       May 26, 2008          526  \n",
              "78849       May 26, 2008          526  \n",
              "11501     April 27, 2009          520  \n",
              "145742    April 27, 2009          520  \n",
              "30257       May 24, 2012          500  \n",
              "79489       May 24, 2012          500  \n",
              "81546   December 9, 2008          401  \n",
              "92996   December 9, 2008          401  \n",
              "52126     April 29, 2008          388  \n",
              "76292     April 29, 2008          388  "
            ]
          },
          "execution_count": 57,
          "metadata": {},
          "output_type": "execute_result"
        }
      ],
      "source": [
        "df[df['condition']=='Anxiety'].sort_values(by=['rating','usefulCount'],ascending=False).head(10)"
      ]
    },
    {
      "cell_type": "code",
      "execution_count": 58,
      "metadata": {
        "colab": {
          "base_uri": "https://localhost:8080/"
        },
        "id": "tAuhFGSjAYOP",
        "outputId": "aa463d27-8209-4102-886a-8a5c70e00257"
      },
      "outputs": [
        {
          "data": {
            "text/plain": [
              "Index(['Unnamed: 0', 'drugName', 'condition', 'review', 'rating', 'date',\n",
              "       'usefulCount'],\n",
              "      dtype='object')"
            ]
          },
          "execution_count": 58,
          "metadata": {},
          "output_type": "execute_result"
        }
      ],
      "source": [
        "df.columns"
      ]
    },
    {
      "cell_type": "code",
      "execution_count": 59,
      "metadata": {
        "colab": {
          "base_uri": "https://localhost:8080/"
        },
        "id": "pEZCUFwlAYOQ",
        "outputId": "8894c33e-a93f-486c-97d8-f9051e0772a4"
      },
      "outputs": [
        {
          "data": {
            "text/plain": [
              "drugName       0\n",
              "condition      0\n",
              "review         0\n",
              "rating         0\n",
              "date           0\n",
              "usefulCount    0\n",
              "dtype: int64"
            ]
          },
          "execution_count": 59,
          "metadata": {},
          "output_type": "execute_result"
        }
      ],
      "source": [
        "df.drop(columns=['Unnamed: 0'],axis=1,inplace=True)\n",
        "df = df.dropna(subset=['condition'])\n",
        "df.isnull().sum()"
      ]
    },
    {
      "cell_type": "code",
      "execution_count": 60,
      "metadata": {
        "colab": {
          "base_uri": "https://localhost:8080/"
        },
        "id": "99MTd2SzAYOQ",
        "outputId": "7a3ba1df-0b92-46ea-eee6-b56ed8fbfca8"
      },
      "outputs": [
        {
          "data": {
            "text/plain": [
              "condition\n",
              "Birth Control      28788\n",
              "Depression          9069\n",
              "Pain                6145\n",
              "Anxiety             5904\n",
              "Acne                5588\n",
              "Bipolar Disorde     4224\n",
              "Insomnia            3673\n",
              "Weight Loss         3609\n",
              "Obesity             3568\n",
              "ADHD                3383\n",
              "Name: count, dtype: int64"
            ]
          },
          "execution_count": 60,
          "metadata": {},
          "output_type": "execute_result"
        }
      ],
      "source": [
        "df.condition.value_counts(ascending=False).head(10)"
      ]
    },
    {
      "cell_type": "code",
      "execution_count": 61,
      "metadata": {
        "id": "-uR5P5W8AYOR"
      },
      "outputs": [],
      "source": [
        "df_train = df[(df['condition'] == 'Birth Control') |\n",
        "              (df['condition'] == 'Depression') |\n",
        "              (df['condition'] == 'Pain') |\n",
        "              (df['condition'] == 'Anxiety') |\n",
        "              (df['condition'] == 'Acne')]\n"
      ]
    },
    {
      "cell_type": "code",
      "execution_count": 62,
      "metadata": {
        "colab": {
          "base_uri": "https://localhost:8080/"
        },
        "id": "_9gXJTkG2-Nd",
        "outputId": "e7c7d38a-0db1-4162-ae36-6fd311c74346"
      },
      "outputs": [
        {
          "data": {
            "text/plain": [
              "drugName       0\n",
              "condition      0\n",
              "review         0\n",
              "rating         0\n",
              "date           0\n",
              "usefulCount    0\n",
              "dtype: int64"
            ]
          },
          "execution_count": 62,
          "metadata": {},
          "output_type": "execute_result"
        }
      ],
      "source": [
        "df_train.isnull().sum()\n",
        "# dt = df_train[df_train['condition']=='Pain']"
      ]
    },
    {
      "cell_type": "code",
      "execution_count": 63,
      "metadata": {
        "colab": {
          "base_uri": "https://localhost:8080/"
        },
        "id": "zztAVU04AYOS",
        "outputId": "941ade27-ecc0-45e2-9fcf-c1ed556c1344"
      },
      "outputs": [
        {
          "name": "stderr",
          "output_type": "stream",
          "text": [
            "[nltk_data] Downloading package wordnet to\n",
            "[nltk_data]     C:\\Users\\BaAr349\\AppData\\Roaming\\nltk_data...\n",
            "[nltk_data]   Package wordnet is already up-to-date!\n"
          ]
        },
        {
          "data": {
            "text/plain": [
              "True"
            ]
          },
          "execution_count": 63,
          "metadata": {},
          "output_type": "execute_result"
        }
      ],
      "source": [
        "nltk.download('wordnet')"
      ]
    },
    {
      "cell_type": "code",
      "execution_count": 64,
      "metadata": {},
      "outputs": [
        {
          "data": {
            "text/plain": [
              "['\"Was on this med for 5 years. Worked fine but not great. Stopped the panic attacks and gave me relief of every day nervousness that I was experiencing. Took months for the side effects to diminish when I first started taking it. What did not leave - insomnia, night sweats, lack of sex drive and poor orgasms (or no orgasms at all).\"',\n",
              " '\"I used it at bed time along with Paxil. I have anxiety and at times insomnia. The lower the dose(@ 7.5 mg), the more it becomes a sleep aid. It worked well for both anxiety and insomnia.\"',\n",
              " '\"Have tried Paxil and Lexapro which sent me into hyper-panic and GAD. I was about to give up on medicines and accept my miserable anxiety as a fact of life when my Doctor recommended Buspirone. I noticed my anxiety began to taper the second day I took the medication. No real side effects to speak of through my first week. The one thing it has delivered for me, HOPE!\"',\n",
              " '\"I have been suffering with this anxiety problem for years and it was starting to interfere with my life.  I am a confident person socially, but my fear of presentations was huge and I would my voice would tremble to the extent where it sounded like I was full on crying. I researched medication for this fear and found propanolol. My doctor prescribed me with 80mg Half Inderal (Propanolol) and despite what some say, he was not hesitant about giving me a prescription and said he regularly gives it to musicians/public speakers etc. It has worked wonders for me, I no longer embarrass my self and now feel happy and confident. You may still feel nervy, but the adrenaline does not kick in. I have not suffered any symptoms and only take it seldomly.\"',\n",
              " '\"Changed my life completely, I can actually function in social settings.\"']"
            ]
          },
          "execution_count": 64,
          "metadata": {},
          "output_type": "execute_result"
        }
      ],
      "source": [
        "k=0\n",
        "birth = []\n",
        "for i in df[df['condition']=='Anxiety']['review']:\n",
        "    birth.append(i)\n",
        "    k+=1\n",
        "    if k==5:\n",
        "        break\n",
        "birth"
      ]
    },
    {
      "cell_type": "code",
      "execution_count": 65,
      "metadata": {
        "id": "7hZnkHVMAYOS"
      },
      "outputs": [],
      "source": [
        "X = df_train[['condition', 'review']]"
      ]
    },
    {
      "cell_type": "code",
      "execution_count": 66,
      "metadata": {
        "colab": {
          "base_uri": "https://localhost:8080/"
        },
        "id": "Pf7K5kEHAYOS",
        "outputId": "1d4d859b-16ed-4670-fbfb-c3fd489c0ee5"
      },
      "outputs": [
        {
          "name": "stderr",
          "output_type": "stream",
          "text": [
            "C:\\Users\\BaAr349\\AppData\\Local\\Temp\\ipykernel_36304\\1989213923.py:10: MarkupResemblesLocatorWarning: The input looks more like a filename than markup. You may want to open this file and pass the filehandle into Beautiful Soup.\n",
            "  html = BeautifulSoup(text,'html.parser').get_text()\n",
            "C:\\Users\\BaAr349\\AppData\\Local\\Temp\\ipykernel_36304\\1989213923.py:22: SettingWithCopyWarning: \n",
            "A value is trying to be set on a copy of a slice from a DataFrame.\n",
            "Try using .loc[row_indexer,col_indexer] = value instead\n",
            "\n",
            "See the caveats in the documentation: https://pandas.pydata.org/pandas-docs/stable/user_guide/indexing.html#returning-a-view-versus-a-copy\n",
            "  X['cleanReview'] = df_train['review'].apply(clean)\n"
          ]
        }
      ],
      "source": [
        "from bs4 import BeautifulSoup\n",
        "import re\n",
        "from nltk.stem import WordNetLemmatizer\n",
        "from nltk.corpus import stopwords\n",
        "\n",
        "stop = stopwords.words('english')\n",
        "lemmatizer = WordNetLemmatizer()\n",
        "\n",
        "def clean(text):\n",
        "    html = BeautifulSoup(text,'html.parser').get_text()\n",
        "\n",
        "    words = re.sub(r'[^a-zA-Z]',' ',html)\n",
        "\n",
        "    lowercase = words.lower().split()\n",
        "\n",
        "    meaningfulwords = [w for w in lowercase if not w in stop]\n",
        "\n",
        "    lemma = [lemmatizer.lemmatize(w) for w in meaningfulwords]\n",
        "\n",
        "    return (' '.join(lemma))\n",
        "\n",
        "X['cleanReview'] = df_train['review'].apply(clean)\n",
        "\n",
        "# import re\n",
        "# from tqdm import tqdm\n",
        "# from nltk.corpus import stopwords\n",
        "# from nltk.stem import SnowballStemmer\n",
        "\n",
        "# def decontracted(phrase):\n",
        "#     # specific\n",
        "#     phrase = re.sub(r\"won't\", \"will not\", phrase)\n",
        "#     phrase = re.sub(r\"can\\'t\", \"can not\", phrase)\n",
        "#     # general\n",
        "#     phrase = re.sub(r\"n\\'t\", \" not\", phrase)\n",
        "#     phrase = re.sub(r\"\\'re\", \" are\", phrase)\n",
        "#     phrase = re.sub(r\"\\'s\", \" is\", phrase)\n",
        "#     phrase = re.sub(r\"\\'d\", \" would\", phrase)\n",
        "#     phrase = re.sub(r\"\\'ll\", \" will\", phrase)\n",
        "#     phrase = re.sub(r\"\\'t\", \" not\", phrase)\n",
        "#     phrase = re.sub(r\"\\'ve\", \" have\", phrase)\n",
        "#     phrase = re.sub(r\"\\'m\", \" am\", phrase)\n",
        "#     return phrase\n",
        "\n",
        "# def preprocess_text(text_data):\n",
        "\n",
        "#     text_data = decontracted(text_data)\n",
        "    \n",
        "#     text_data = text_data.replace('\\n',' ')\n",
        "#     text_data = text_data.replace('\\r',' ')\n",
        "#     text_data = text_data.replace('\\t',' ')\n",
        "#     text_data = text_data.replace('-',' ')\n",
        "#     text_data = text_data.replace(\"/\",' ')\n",
        "#     text_data = text_data.replace(\">\",' ')\n",
        "#     text_data = text_data.replace('\"',' ')\n",
        "#     text_data = text_data.replace('?',' ')\n",
        "#     return text_data\n",
        "  \n",
        "# # loading stop words from nltk library\n",
        "\n",
        "# stop_words = set(stopwords.words('english'))\n",
        "# stemmer = SnowballStemmer('english')\n",
        "\n",
        "# #removing 'no' from the stop words list as there is an importance of 'side effects' and 'no side effects' in review\n",
        "# stop_words.remove('no')\n",
        "\n",
        "# def nlp_preprocessing(review):\n",
        "   \n",
        "#     if type(review) is not int:\n",
        "#         string = \"\"\n",
        "#         review = preprocess_text(review)\n",
        "#         review = re.sub('[^a-zA-Z]', ' ', review)\n",
        "#         review = re.sub('\\s+',' ', review)\n",
        "#         review = review.lower()\n",
        "#         for word in review.split():\n",
        "#             if not word in stop_words:\n",
        "#                 word = stemmer.stem(word)\n",
        "#                 string += word + \" \"\n",
        "#         return string \n",
        "      \n",
        "# X['cleaned_review'] = X['review'].apply(nlp_preprocessing)\n"
      ]
    },
    {
      "cell_type": "code",
      "execution_count": 67,
      "metadata": {
        "colab": {
          "base_uri": "https://localhost:8080/",
          "height": 53
        },
        "id": "VXcaCx0zAYOT",
        "outputId": "cb9f3851-241e-4311-ad36-8691998156cf"
      },
      "outputs": [
        {
          "name": "stdout",
          "output_type": "stream",
          "text": [
            "pain management doctor put butrans patch week ago mg dose first box four lifesaver agony work able sleep two weekend two year hoping bump ten mg dose soon cut norco chronic pain many year many medicine including oxycontin patch best far\n"
          ]
        }
      ],
      "source": [
        "X = X.reset_index(drop=True)\n",
        "print(X.cleanReview[10])"
      ]
    },
    {
      "cell_type": "code",
      "execution_count": 68,
      "metadata": {},
      "outputs": [],
      "source": [
        "from nltk.sentiment.vader import SentimentIntensityAnalyzer\n",
        "\n",
        "sid = SentimentIntensityAnalyzer()\n",
        "X['sentiment_score'] = [sid.polarity_scores(v)['compound'] for v in X['review']]\n",
        "X['sentiment_score_clean'] = [sid.polarity_scores(v)['compound'] for v in X['cleanReview']]"
      ]
    },
    {
      "cell_type": "code",
      "execution_count": 69,
      "metadata": {},
      "outputs": [
        {
          "data": {
            "text/html": [
              "<div>\n",
              "<style scoped>\n",
              "    .dataframe tbody tr th:only-of-type {\n",
              "        vertical-align: middle;\n",
              "    }\n",
              "\n",
              "    .dataframe tbody tr th {\n",
              "        vertical-align: top;\n",
              "    }\n",
              "\n",
              "    .dataframe thead th {\n",
              "        text-align: right;\n",
              "    }\n",
              "</style>\n",
              "<table border=\"1\" class=\"dataframe\">\n",
              "  <thead>\n",
              "    <tr style=\"text-align: right;\">\n",
              "      <th></th>\n",
              "      <th>condition</th>\n",
              "      <th>review</th>\n",
              "      <th>cleanReview</th>\n",
              "      <th>sentiment_score</th>\n",
              "      <th>sentiment_score_clean</th>\n",
              "    </tr>\n",
              "  </thead>\n",
              "  <tbody>\n",
              "    <tr>\n",
              "      <th>0</th>\n",
              "      <td>Birth Control</td>\n",
              "      <td>\"I used to take another oral contraceptive, wh...</td>\n",
              "      <td>used take another oral contraceptive pill cycl...</td>\n",
              "      <td>0.7962</td>\n",
              "      <td>0.8176</td>\n",
              "    </tr>\n",
              "    <tr>\n",
              "      <th>1</th>\n",
              "      <td>Birth Control</td>\n",
              "      <td>\"This is my first time using any form of birth...</td>\n",
              "      <td>first time using form birth control glad went ...</td>\n",
              "      <td>0.7184</td>\n",
              "      <td>0.5267</td>\n",
              "    </tr>\n",
              "    <tr>\n",
              "      <th>2</th>\n",
              "      <td>Birth Control</td>\n",
              "      <td>\"I had been on the pill for many years. When m...</td>\n",
              "      <td>pill many year doctor changed rx chateal effec...</td>\n",
              "      <td>-0.9010</td>\n",
              "      <td>0.8179</td>\n",
              "    </tr>\n",
              "    <tr>\n",
              "      <th>3</th>\n",
              "      <td>Depression</td>\n",
              "      <td>\"I have taken anti-depressants for years, with...</td>\n",
              "      <td>taken anti depressant year improvement mostly ...</td>\n",
              "      <td>0.0147</td>\n",
              "      <td>-0.0000</td>\n",
              "    </tr>\n",
              "    <tr>\n",
              "      <th>4</th>\n",
              "      <td>Birth Control</td>\n",
              "      <td>\"Started Nexplanon 2 months ago because I have...</td>\n",
              "      <td>started nexplanon month ago minimal amount con...</td>\n",
              "      <td>-0.4309</td>\n",
              "      <td>0.4458</td>\n",
              "    </tr>\n",
              "  </tbody>\n",
              "</table>\n",
              "</div>"
            ],
            "text/plain": [
              "       condition                                             review  \\\n",
              "0  Birth Control  \"I used to take another oral contraceptive, wh...   \n",
              "1  Birth Control  \"This is my first time using any form of birth...   \n",
              "2  Birth Control  \"I had been on the pill for many years. When m...   \n",
              "3     Depression  \"I have taken anti-depressants for years, with...   \n",
              "4  Birth Control  \"Started Nexplanon 2 months ago because I have...   \n",
              "\n",
              "                                         cleanReview  sentiment_score  \\\n",
              "0  used take another oral contraceptive pill cycl...           0.7962   \n",
              "1  first time using form birth control glad went ...           0.7184   \n",
              "2  pill many year doctor changed rx chateal effec...          -0.9010   \n",
              "3  taken anti depressant year improvement mostly ...           0.0147   \n",
              "4  started nexplanon month ago minimal amount con...          -0.4309   \n",
              "\n",
              "   sentiment_score_clean  \n",
              "0                 0.8176  \n",
              "1                 0.5267  \n",
              "2                 0.8179  \n",
              "3                -0.0000  \n",
              "4                 0.4458  "
            ]
          },
          "execution_count": 69,
          "metadata": {},
          "output_type": "execute_result"
        }
      ],
      "source": [
        "X.head()"
      ]
    },
    {
      "cell_type": "code",
      "execution_count": 70,
      "metadata": {
        "id": "3R-s3sl3AYOT"
      },
      "outputs": [],
      "source": [
        "x = X['cleanReview']\n",
        "y = X['condition']\n",
        "\n",
        "from sklearn.model_selection import train_test_split"
      ]
    },
    {
      "cell_type": "code",
      "execution_count": 71,
      "metadata": {
        "id": "jmaraoA2AYOT"
      },
      "outputs": [],
      "source": [
        "X_train, X_test, y_train, y_test = train_test_split(x, y,stratify=y,test_size=0.25, random_state=42)"
      ]
    },
    {
      "cell_type": "code",
      "execution_count": 72,
      "metadata": {
        "id": "ZWOOuzEyyxv-"
      },
      "outputs": [],
      "source": [
        "\n",
        "import itertools # confusion matrix\n",
        "import string\n",
        "import numpy as np\n",
        "import seaborn as sns\n",
        "from sklearn.feature_extraction.text import CountVectorizer, TfidfVectorizer\n",
        "from sklearn.model_selection import train_test_split\n",
        "from sklearn.linear_model import PassiveAggressiveClassifier\n",
        "from sklearn.svm import SVC\n",
        "from sklearn.naive_bayes import MultinomialNB\n",
        "from sklearn import metrics\n",
        "from sklearn.ensemble import RandomForestClassifier\n",
        "import matplotlib.pyplot as plt\n",
        "%matplotlib inline\n",
        "\n",
        "# To show all the rows of pandas dataframe\n",
        "pd.set_option('display.max_rows', None)\n",
        "\n"
      ]
    },
    {
      "cell_type": "code",
      "execution_count": 73,
      "metadata": {
        "colab": {
          "base_uri": "https://localhost:8080/"
        },
        "id": "v20znRvGzBUC",
        "outputId": "301126b7-78c5-4ec2-b300-29b113fd2692"
      },
      "outputs": [
        {
          "name": "stdout",
          "output_type": "stream",
          "text": [
            "Test vectorizer shape: (13874, 493710)\n",
            "Train vectorizer shape: (41620, 493710)\n"
          ]
        }
      ],
      "source": [
        "\n",
        "# Modify the TF-IDF vectorizer parameters\n",
        "tfidf_vectorizer = TfidfVectorizer(max_df=0.9, ngram_range=(1, 2))\n",
        "\n",
        "# Fit and transform the training data\n",
        "train_vectoriser = tfidf_vectorizer.fit_transform(X_train)\n",
        "\n",
        "# Transform the test data\n",
        "test_vectoriser = tfidf_vectorizer.transform(X_test)\n",
        "\n",
        "# Print the shape of the transformed test data\n",
        "print(\"Test vectorizer shape:\", test_vectoriser.shape)\n",
        "\n",
        "print(\"Train vectorizer shape:\", train_vectoriser.shape)\n"
      ]
    },
    {
      "cell_type": "code",
      "execution_count": 74,
      "metadata": {},
      "outputs": [
        {
          "name": "stdout",
          "output_type": "stream",
          "text": [
            "0.5187400893758108\n",
            "[[   0    0    0    0    0]\n",
            " [   0    0    0    0    0]\n",
            " [1397 1476 7197 2268 1536]\n",
            " [   0    0    0    0    0]\n",
            " [   0    0    0    0    0]]\n"
          ]
        }
      ],
      "source": [
        "from sklearn.ensemble import RandomForestClassifier\n",
        "from sklearn import metrics\n",
        "\n",
        "# Initialize the RandomForestClassifier with specified parameters\n",
        "randomforest = RandomForestClassifier(n_estimators=100, max_depth=10, min_samples_split=5, n_jobs=-1)\n",
        "\n",
        "# Fit the model on the training data\n",
        "randomforest.fit(train_vectoriser , y_train)\n",
        "\n",
        "# Make predictions on the test data\n",
        "prediction = randomforest.predict(test_vectoriser)\n",
        "\n",
        "# Calculate the accuracy of the model\n",
        "score = metrics.accuracy_score(prediction,y_test)\n",
        "print(score)\n",
        "\n",
        "from sklearn.metrics import confusion_matrix\n",
        "\n",
        "# Calculate the confusion matrix\n",
        "cf= confusion_matrix(prediction , y_test)\n",
        "print(cf)"
      ]
    },
    {
      "cell_type": "code",
      "execution_count": 75,
      "metadata": {},
      "outputs": [
        {
          "name": "stdout",
          "output_type": "stream",
          "text": [
            "Decision Tree Accuracy: 0.8133919561770218\n",
            "Confusion Matrix for Decision Tree:\n",
            "[[1069    5  137   10    5]\n",
            " [   1  897   50  219   20]\n",
            " [ 304  305 6833  635  336]\n",
            " [  15  258  105 1365   54]\n",
            " [   8   11   72   39 1121]]\n"
          ]
        }
      ],
      "source": [
        "from sklearn.tree import DecisionTreeClassifier\n",
        "\n",
        "# Initialize the DecisionTreeClassifier with specified parameters\n",
        "decision_tree = DecisionTreeClassifier(max_depth=10, min_samples_split=5)\n",
        "\n",
        "# Fit the model on the training data\n",
        "decision_tree.fit(train_vectoriser , y_train)\n",
        "\n",
        "# Make predictions on the test data\n",
        "prediction_dt = decision_tree.predict(test_vectoriser)\n",
        "\n",
        "# Calculate the accuracy of the model\n",
        "score_dt = metrics.accuracy_score(prediction_dt, y_test)\n",
        "print(\"Decision Tree Accuracy:\", score_dt)\n",
        "\n",
        "# Calculate the confusion matrix\n",
        "cf_dt = confusion_matrix(prediction_dt, y_test)\n",
        "print(\"Confusion Matrix for Decision Tree:\")\n",
        "print(cf_dt)\n"
      ]
    },
    {
      "cell_type": "code",
      "execution_count": 76,
      "metadata": {},
      "outputs": [
        {
          "name": "stdout",
          "output_type": "stream",
          "text": [
            "[LightGBM] [Info] Auto-choosing col-wise multi-threading, the overhead of testing was 1.324990 seconds.\n",
            "You can set `force_col_wise=true` to remove the overhead.\n",
            "[LightGBM] [Info] Total Bins 458743\n",
            "[LightGBM] [Info] Number of data points in the train set: 41620, number of used features: 14586\n",
            "[LightGBM] [Info] Start training from score -2.295641\n",
            "[LightGBM] [Info] Start training from score -2.240633\n",
            "[LightGBM] [Info] Start training from score -0.656304\n",
            "[LightGBM] [Info] Start training from score -1.811511\n",
            "[LightGBM] [Info] Start training from score -2.200570\n",
            "[LightGBM] [Warning] No further splits with positive gain, best gain: -inf\n",
            "[LightGBM] [Warning] No further splits with positive gain, best gain: -inf\n",
            "[LightGBM] [Warning] No further splits with positive gain, best gain: -inf\n",
            "[LightGBM] [Warning] No further splits with positive gain, best gain: -inf\n",
            "[LightGBM] [Warning] No further splits with positive gain, best gain: -inf\n",
            "[LightGBM] [Warning] No further splits with positive gain, best gain: -inf\n",
            "[LightGBM] [Warning] No further splits with positive gain, best gain: -inf\n",
            "[LightGBM] [Warning] No further splits with positive gain, best gain: -inf\n",
            "[LightGBM] [Warning] No further splits with positive gain, best gain: -inf\n",
            "[LightGBM] [Warning] No further splits with positive gain, best gain: -inf\n",
            "[LightGBM] [Warning] No further splits with positive gain, best gain: -inf\n",
            "[LightGBM] [Warning] No further splits with positive gain, best gain: -inf\n",
            "[LightGBM] [Warning] No further splits with positive gain, best gain: -inf\n",
            "[LightGBM] [Warning] No further splits with positive gain, best gain: -inf\n",
            "[LightGBM] [Warning] No further splits with positive gain, best gain: -inf\n",
            "[LightGBM] [Warning] No further splits with positive gain, best gain: -inf\n",
            "[LightGBM] [Warning] No further splits with positive gain, best gain: -inf\n",
            "[LightGBM] [Warning] No further splits with positive gain, best gain: -inf\n",
            "[LightGBM] [Warning] No further splits with positive gain, best gain: -inf\n",
            "[LightGBM] [Warning] No further splits with positive gain, best gain: -inf\n",
            "[LightGBM] [Warning] No further splits with positive gain, best gain: -inf\n",
            "[LightGBM] [Warning] No further splits with positive gain, best gain: -inf\n",
            "[LightGBM] [Warning] No further splits with positive gain, best gain: -inf\n",
            "[LightGBM] [Warning] No further splits with positive gain, best gain: -inf\n",
            "[LightGBM] [Warning] No further splits with positive gain, best gain: -inf\n",
            "[LightGBM] [Warning] No further splits with positive gain, best gain: -inf\n",
            "[LightGBM] [Warning] No further splits with positive gain, best gain: -inf\n",
            "[LightGBM] [Warning] No further splits with positive gain, best gain: -inf\n",
            "[LightGBM] [Warning] No further splits with positive gain, best gain: -inf\n",
            "[LightGBM] [Warning] No further splits with positive gain, best gain: -inf\n",
            "[LightGBM] [Warning] No further splits with positive gain, best gain: -inf\n",
            "[LightGBM] [Warning] No further splits with positive gain, best gain: -inf\n",
            "[LightGBM] [Warning] No further splits with positive gain, best gain: -inf\n",
            "[LightGBM] [Warning] No further splits with positive gain, best gain: -inf\n",
            "[LightGBM] [Warning] No further splits with positive gain, best gain: -inf\n",
            "[LightGBM] [Warning] No further splits with positive gain, best gain: -inf\n",
            "[LightGBM] [Warning] No further splits with positive gain, best gain: -inf\n",
            "[LightGBM] [Warning] No further splits with positive gain, best gain: -inf\n",
            "[LightGBM] [Warning] No further splits with positive gain, best gain: -inf\n",
            "[LightGBM] [Warning] No further splits with positive gain, best gain: -inf\n",
            "[LightGBM] [Warning] No further splits with positive gain, best gain: -inf\n",
            "[LightGBM] [Warning] No further splits with positive gain, best gain: -inf\n",
            "[LightGBM] [Warning] No further splits with positive gain, best gain: -inf\n",
            "[LightGBM] [Warning] No further splits with positive gain, best gain: -inf\n",
            "[LightGBM] [Warning] No further splits with positive gain, best gain: -inf\n",
            "[LightGBM] [Warning] No further splits with positive gain, best gain: -inf\n",
            "[LightGBM] [Warning] No further splits with positive gain, best gain: -inf\n",
            "[LightGBM] [Warning] No further splits with positive gain, best gain: -inf\n",
            "[LightGBM] [Warning] No further splits with positive gain, best gain: -inf\n",
            "[LightGBM] [Warning] No further splits with positive gain, best gain: -inf\n",
            "[LightGBM] [Warning] No further splits with positive gain, best gain: -inf\n",
            "[LightGBM] [Warning] No further splits with positive gain, best gain: -inf\n",
            "[LightGBM] [Warning] No further splits with positive gain, best gain: -inf\n",
            "[LightGBM] [Warning] No further splits with positive gain, best gain: -inf\n",
            "[LightGBM] [Warning] No further splits with positive gain, best gain: -inf\n",
            "[LightGBM] [Warning] No further splits with positive gain, best gain: -inf\n",
            "[LightGBM] [Warning] No further splits with positive gain, best gain: -inf\n",
            "[LightGBM] [Warning] No further splits with positive gain, best gain: -inf\n",
            "[LightGBM] [Warning] No further splits with positive gain, best gain: -inf\n",
            "[LightGBM] [Warning] No further splits with positive gain, best gain: -inf\n",
            "[LightGBM] [Warning] No further splits with positive gain, best gain: -inf\n",
            "[LightGBM] [Warning] No further splits with positive gain, best gain: -inf\n",
            "[LightGBM] [Warning] No further splits with positive gain, best gain: -inf\n",
            "[LightGBM] [Warning] No further splits with positive gain, best gain: -inf\n",
            "[LightGBM] [Warning] No further splits with positive gain, best gain: -inf\n",
            "[LightGBM] [Warning] No further splits with positive gain, best gain: -inf\n",
            "[LightGBM] [Warning] No further splits with positive gain, best gain: -inf\n",
            "[LightGBM] [Warning] No further splits with positive gain, best gain: -inf\n",
            "[LightGBM] [Warning] No further splits with positive gain, best gain: -inf\n",
            "[LightGBM] [Warning] No further splits with positive gain, best gain: -inf\n",
            "[LightGBM] [Warning] No further splits with positive gain, best gain: -inf\n",
            "[LightGBM] [Warning] No further splits with positive gain, best gain: -inf\n",
            "[LightGBM] [Warning] No further splits with positive gain, best gain: -inf\n",
            "[LightGBM] [Warning] No further splits with positive gain, best gain: -inf\n",
            "[LightGBM] [Warning] No further splits with positive gain, best gain: -inf\n",
            "[LightGBM] [Warning] No further splits with positive gain, best gain: -inf\n",
            "[LightGBM] [Warning] No further splits with positive gain, best gain: -inf\n",
            "[LightGBM] [Warning] No further splits with positive gain, best gain: -inf\n",
            "[LightGBM] [Warning] No further splits with positive gain, best gain: -inf\n",
            "[LightGBM] [Warning] No further splits with positive gain, best gain: -inf\n",
            "[LightGBM] [Warning] No further splits with positive gain, best gain: -inf\n",
            "[LightGBM] [Warning] No further splits with positive gain, best gain: -inf\n",
            "[LightGBM] [Warning] No further splits with positive gain, best gain: -inf\n",
            "[LightGBM] [Warning] No further splits with positive gain, best gain: -inf\n",
            "[LightGBM] [Warning] No further splits with positive gain, best gain: -inf\n",
            "[LightGBM] [Warning] No further splits with positive gain, best gain: -inf\n",
            "[LightGBM] [Warning] No further splits with positive gain, best gain: -inf\n",
            "[LightGBM] [Warning] No further splits with positive gain, best gain: -inf\n",
            "[LightGBM] [Warning] No further splits with positive gain, best gain: -inf\n",
            "[LightGBM] [Warning] No further splits with positive gain, best gain: -inf\n",
            "[LightGBM] [Warning] No further splits with positive gain, best gain: -inf\n",
            "[LightGBM] [Warning] No further splits with positive gain, best gain: -inf\n",
            "[LightGBM] [Warning] No further splits with positive gain, best gain: -inf\n",
            "[LightGBM] [Warning] No further splits with positive gain, best gain: -inf\n",
            "[LightGBM] [Warning] No further splits with positive gain, best gain: -inf\n",
            "[LightGBM] [Warning] No further splits with positive gain, best gain: -inf\n",
            "[LightGBM] [Warning] No further splits with positive gain, best gain: -inf\n",
            "[LightGBM] [Warning] No further splits with positive gain, best gain: -inf\n",
            "[LightGBM] [Warning] No further splits with positive gain, best gain: -inf\n",
            "[LightGBM] [Warning] No further splits with positive gain, best gain: -inf\n",
            "[LightGBM] [Warning] No further splits with positive gain, best gain: -inf\n",
            "[LightGBM] [Warning] No further splits with positive gain, best gain: -inf\n",
            "[LightGBM] [Warning] No further splits with positive gain, best gain: -inf\n",
            "[LightGBM] [Warning] No further splits with positive gain, best gain: -inf\n",
            "[LightGBM] [Warning] No further splits with positive gain, best gain: -inf\n",
            "[LightGBM] [Warning] No further splits with positive gain, best gain: -inf\n",
            "[LightGBM] [Warning] No further splits with positive gain, best gain: -inf\n",
            "[LightGBM] [Warning] No further splits with positive gain, best gain: -inf\n",
            "[LightGBM] [Warning] No further splits with positive gain, best gain: -inf\n",
            "[LightGBM] [Warning] No further splits with positive gain, best gain: -inf\n",
            "[LightGBM] [Warning] No further splits with positive gain, best gain: -inf\n",
            "[LightGBM] [Warning] No further splits with positive gain, best gain: -inf\n",
            "[LightGBM] [Warning] No further splits with positive gain, best gain: -inf\n",
            "[LightGBM] [Warning] No further splits with positive gain, best gain: -inf\n",
            "[LightGBM] [Warning] No further splits with positive gain, best gain: -inf\n",
            "[LightGBM] [Warning] No further splits with positive gain, best gain: -inf\n",
            "[LightGBM] [Warning] No further splits with positive gain, best gain: -inf\n",
            "[LightGBM] [Warning] No further splits with positive gain, best gain: -inf\n",
            "[LightGBM] [Warning] No further splits with positive gain, best gain: -inf\n",
            "[LightGBM] [Warning] No further splits with positive gain, best gain: -inf\n",
            "[LightGBM] [Warning] No further splits with positive gain, best gain: -inf\n",
            "[LightGBM] [Warning] No further splits with positive gain, best gain: -inf\n",
            "[LightGBM] [Warning] No further splits with positive gain, best gain: -inf\n",
            "[LightGBM] [Warning] No further splits with positive gain, best gain: -inf\n",
            "[LightGBM] [Warning] No further splits with positive gain, best gain: -inf\n",
            "LightGBM Accuracy: 0.9359953870549229\n",
            "Confusion Matrix for LightGBM:\n",
            "[[1262    2   34    1    3]\n",
            " [   2 1162   15  143   11]\n",
            " [ 108   28 7075   27   13]\n",
            " [  20  264   59 2070   92]\n",
            " [   5   20   14   27 1417]]\n"
          ]
        }
      ],
      "source": [
        "import lightgbm as lgb\n",
        "\n",
        "# Initialize the LightGBM Classifier with specified parameters\n",
        "lgbm = lgb.LGBMClassifier(num_leaves=50, max_depth=10, learning_rate=0.1, n_estimators=100)\n",
        "\n",
        "# Fit the model on the training data\n",
        "lgbm.fit(train_vectoriser , y_train)\n",
        "\n",
        "# Make predictions on the test data\n",
        "prediction_lgbm = lgbm.predict(test_vectoriser)\n",
        "\n",
        "# Calculate the accuracy of the model\n",
        "score_lgbm = metrics.accuracy_score(prediction_lgbm, y_test)\n",
        "print(\"LightGBM Accuracy:\", score_lgbm)\n",
        "\n",
        "# Calculate the confusion matrix\n",
        "cf_lgbm = confusion_matrix(prediction_lgbm, y_test)\n",
        "print(\"Confusion Matrix for LightGBM:\")\n",
        "print(cf_lgbm)\n"
      ]
    },
    {
      "cell_type": "code",
      "execution_count": 77,
      "metadata": {},
      "outputs": [
        {
          "name": "stdout",
          "output_type": "stream",
          "text": [
            "0:\tlearn: 1.4047537\ttotal: 5.78s\tremaining: 1m 49s\n",
            "1:\tlearn: 1.2753021\ttotal: 10.6s\tremaining: 1m 35s\n",
            "2:\tlearn: 1.1749614\ttotal: 15.5s\tremaining: 1m 27s\n",
            "3:\tlearn: 1.0907268\ttotal: 20.4s\tremaining: 1m 21s\n",
            "4:\tlearn: 1.0217491\ttotal: 25.3s\tremaining: 1m 15s\n",
            "5:\tlearn: 0.9636106\ttotal: 30.2s\tremaining: 1m 10s\n",
            "6:\tlearn: 0.9141734\ttotal: 35.2s\tremaining: 1m 5s\n",
            "7:\tlearn: 0.8711381\ttotal: 40.1s\tremaining: 1m\n",
            "8:\tlearn: 0.8353694\ttotal: 45s\tremaining: 55s\n",
            "9:\tlearn: 0.8030681\ttotal: 50.1s\tremaining: 50.1s\n",
            "10:\tlearn: 0.7735006\ttotal: 55s\tremaining: 45s\n",
            "11:\tlearn: 0.7495724\ttotal: 60s\tremaining: 40s\n",
            "12:\tlearn: 0.7263325\ttotal: 1m 4s\tremaining: 35s\n",
            "13:\tlearn: 0.7057605\ttotal: 1m 9s\tremaining: 30s\n",
            "14:\tlearn: 0.6889380\ttotal: 1m 14s\tremaining: 24.9s\n",
            "15:\tlearn: 0.6728046\ttotal: 1m 19s\tremaining: 19.9s\n",
            "16:\tlearn: 0.6567792\ttotal: 1m 24s\tremaining: 14.9s\n",
            "17:\tlearn: 0.6437666\ttotal: 1m 29s\tremaining: 9.94s\n",
            "18:\tlearn: 0.6289889\ttotal: 1m 34s\tremaining: 4.96s\n",
            "19:\tlearn: 0.6165040\ttotal: 1m 39s\tremaining: 0us\n",
            "CatBoost Accuracy: 0.8088510883667291\n",
            "Confusion Matrix for CatBoost:\n",
            "[[ 998    2  117    4    4]\n",
            " [   1  808   41  172   11]\n",
            " [ 369  274 6812  582  304]\n",
            " [  20  377   89 1446   59]\n",
            " [   9   15  138   64 1158]]\n"
          ]
        }
      ],
      "source": [
        "from catboost import CatBoostClassifier\n",
        "\n",
        "# Initialize the CatBoostClassifier with specified parameters\n",
        "catboost = CatBoostClassifier(iterations=20, depth=6, learning_rate=0.1)\n",
        "\n",
        "# Fit the model on the training data\n",
        "catboost.fit(train_vectoriser , y_train)\n",
        "\n",
        "# Make predictions on the test data\n",
        "prediction_catboost = catboost.predict(test_vectoriser)\n",
        "\n",
        "# Calculate the accuracy of the model\n",
        "score_catboost = metrics.accuracy_score(prediction_catboost, y_test)\n",
        "print(\"CatBoost Accuracy:\", score_catboost)\n",
        "\n",
        "# Calculate the confusion matrix\n",
        "cf_catboost = confusion_matrix(prediction_catboost, y_test)\n",
        "print(\"Confusion Matrix for CatBoost:\")\n",
        "print(cf_catboost)\n"
      ]
    },
    {
      "cell_type": "code",
      "execution_count": 78,
      "metadata": {
        "colab": {
          "base_uri": "https://localhost:8080/"
        },
        "id": "SDTGNKO6zNBz",
        "outputId": "aa5fc688-3a17-49a0-b033-60ab62133400"
      },
      "outputs": [
        {
          "name": "stdout",
          "output_type": "stream",
          "text": [
            "0.6660660227764164\n",
            "[[ 282    0    0    0    0]\n",
            " [   0  242    0    4    0]\n",
            " [1113  966 7197 1311  954]\n",
            " [   2  268    0  951   13]\n",
            " [   0    0    0    2  569]]\n"
          ]
        }
      ],
      "source": [
        "multinb = MultinomialNB()\n",
        "multinb.fit(train_vectoriser , y_train)\n",
        "prediction = multinb.predict(test_vectoriser)\n",
        "score = metrics.accuracy_score(prediction,y_test)\n",
        "print(score)\n",
        "from sklearn.metrics import confusion_matrix\n",
        "cf= confusion_matrix(prediction , y_test)\n",
        "print(cf)"
      ]
    },
    {
      "cell_type": "code",
      "execution_count": 79,
      "metadata": {
        "colab": {
          "base_uri": "https://localhost:8080/"
        },
        "id": "L_jS6lQTzQZk",
        "outputId": "bbc1e699-a14d-4f17-f5cb-a4aab05a57e7"
      },
      "outputs": [
        {
          "name": "stdout",
          "output_type": "stream",
          "text": [
            "0.9564653308346548\n"
          ]
        }
      ],
      "source": [
        "passive_tf = PassiveAggressiveClassifier()\n",
        "passive_tf.fit(train_vectoriser , y_train)\n",
        "pred = passive_tf.predict(test_vectoriser)\n",
        "score = metrics.accuracy_score(pred,y_test)\n",
        "print(score)\n"
      ]
    },
    {
      "cell_type": "code",
      "execution_count": 80,
      "metadata": {},
      "outputs": [
        {
          "name": "stdout",
          "output_type": "stream",
          "text": [
            "          Classifier  Accuracy  Precision    Recall  F1 Score\n",
            "0  PassiveAggressive  0.956465   0.956858  0.956465  0.956360\n",
            "3           LightGBM  0.935995   0.937354  0.935995  0.935939\n",
            "4       DecisionTree  0.813392   0.812889  0.813392  0.806728\n",
            "2           CatBoost  0.808851   0.807544  0.808851  0.801866\n",
            "1      MultinomialNB  0.666066   0.765140  0.666066  0.610787\n",
            "5       RandomForest  0.666066   0.765140  0.666066  0.610787\n"
          ]
        }
      ],
      "source": [
        "import pandas as pd\n",
        "from sklearn.metrics import precision_score, recall_score, f1_score, roc_auc_score\n",
        "\n",
        "# Calculate performance metrics for PassiveAggressiveClassifier\n",
        "pa_accuracy = metrics.accuracy_score(pred, y_test)\n",
        "pa_precision = precision_score(y_test, pred, average='weighted')\n",
        "pa_recall = recall_score(y_test, pred, average='weighted')\n",
        "pa_f1 = f1_score(y_test, pred, average='weighted')\n",
        "# pa_auc = roc_auc_score(y_test, pred)\n",
        "\n",
        "# Calculate performance metrics for MultinomialNB\n",
        "nb_accuracy = metrics.accuracy_score(prediction, y_test)\n",
        "nb_precision = precision_score(y_test, prediction, average='weighted')\n",
        "nb_recall = recall_score(y_test, prediction, average='weighted')\n",
        "nb_f1 = f1_score(y_test, prediction, average='weighted')\n",
        "# nb_auc = roc_auc_score(y_test, prediction)\n",
        "\n",
        "\n",
        "# Calculate performance metrics for CatBoostClassifier\n",
        "catboost_accuracy = metrics.accuracy_score(prediction_catboost, y_test)\n",
        "catboost_precision = precision_score(y_test, prediction_catboost, average='weighted')\n",
        "catboost_recall = recall_score(y_test, prediction_catboost, average='weighted')\n",
        "catboost_f1 = f1_score(y_test, prediction_catboost, average='weighted')\n",
        "# catboost_auc = roc_auc_score(y_test, prediction_catboost)\n",
        "\n",
        "# Calculate performance metrics for LightGBMClassifier\n",
        "lgbm_accuracy = metrics.accuracy_score(prediction_lgbm, y_test)\n",
        "lgbm_precision = precision_score(y_test, prediction_lgbm, average='weighted')\n",
        "lgbm_recall = recall_score(y_test, prediction_lgbm, average='weighted')\n",
        "lgbm_f1 = f1_score(y_test, prediction_lgbm, average='weighted')\n",
        "# lgbm_auc = roc_auc_score(y_test, prediction_lgbm)\n",
        "\n",
        "# Calculate performance metrics for DecisionTreeClassifier\n",
        "dt_accuracy = metrics.accuracy_score(prediction_dt, y_test)\n",
        "dt_precision = precision_score(y_test, prediction_dt, average='weighted')\n",
        "dt_recall = recall_score(y_test, prediction_dt, average='weighted')\n",
        "dt_f1 = f1_score(y_test, prediction_dt, average='weighted')\n",
        "# dt_auc = roc_auc_score(y_test, prediction_dt)\n",
        "\n",
        "# Calculate performance metrics for RandomForestClassifier\n",
        "rf_accuracy = metrics.accuracy_score(prediction, y_test)\n",
        "rf_precision = precision_score(y_test, prediction, average='weighted')\n",
        "rf_recall = recall_score(y_test, prediction, average='weighted')\n",
        "rf_f1 = f1_score(y_test, prediction, average='weighted')\n",
        "# rf_auc = roc_auc_score(y_test, prediction)\n",
        "\n",
        "# Create a DataFrame to store the results\n",
        "results = pd.DataFrame({\n",
        "    'Classifier': ['PassiveAggressive', 'MultinomialNB', 'CatBoost', 'LightGBM', 'DecisionTree', 'RandomForest'],\n",
        "    'Accuracy': [pa_accuracy, nb_accuracy, catboost_accuracy, lgbm_accuracy, dt_accuracy, rf_accuracy],\n",
        "    'Precision': [pa_precision, nb_precision, catboost_precision, lgbm_precision, dt_precision, rf_precision],\n",
        "    'Recall': [pa_recall, nb_recall, catboost_recall, lgbm_recall, dt_recall, rf_recall],\n",
        "    'F1 Score': [pa_f1, nb_f1, catboost_f1, lgbm_f1, dt_f1, rf_f1],\n",
        "    # 'AUC': [pa_auc, nb_auc, catboost_auc, lgbm_auc, dt_auc, rf_auc]\n",
        "})\n",
        "\n",
        "# Print the DataFrame\n",
        "results_sorted = results.sort_values(by='Accuracy', ascending=False)\n",
        "\n",
        "# Print the sorted DataFrame\n",
        "print(results_sorted)\n"
      ]
    },
    {
      "cell_type": "code",
      "execution_count": 81,
      "metadata": {
        "colab": {
          "base_uri": "https://localhost:8080/"
        },
        "id": "jpdCJaD85u7k",
        "outputId": "0575b325-a247-45b6-f3e5-9ef2f2990e3e"
      },
      "outputs": [
        {
          "name": "stdout",
          "output_type": "stream",
          "text": [
            "[[1305    0   24    3    3]\n",
            " [   0 1252    6  109   17]\n",
            " [  81   21 7132   12    9]\n",
            " [   7  187   29 2128   54]\n",
            " [   4   16    6   16 1453]]\n"
          ]
        }
      ],
      "source": [
        "from sklearn.metrics import confusion_matrix\n",
        "cf= confusion_matrix(pred , y_test)\n",
        "print(cf)"
      ]
    },
    {
      "cell_type": "code",
      "execution_count": 82,
      "metadata": {
        "colab": {
          "base_uri": "https://localhost:8080/"
        },
        "id": "eOtrWScR65PS",
        "outputId": "d1e83a2d-e6a0-44b3-a349-5bd39852cb23"
      },
      "outputs": [
        {
          "name": "stdout",
          "output_type": "stream",
          "text": [
            "Pain narcotic 3.5676102013049213\n",
            "Pain dilaudid 3.6243578311545215\n",
            "Pain opana 3.7032558968583444\n",
            "Pain norco 4.043918442065478\n",
            "Pain oxycontin 4.2431487632241085\n",
            "Pain relief 4.351793540758756\n",
            "Pain nucynta 4.552689873456806\n",
            "Pain surgery 4.872233503039562\n",
            "Pain percocet 5.158850876557711\n",
            "Pain pain 10.461970107874446\n"
          ]
        }
      ],
      "source": [
        "def most_informative_feature_for_class(vectorizer, classifier, classlabel, n=10):\n",
        "    labelid = list(classifier.classes_).index(classlabel)\n",
        "    feature_names = vectorizer.get_feature_names_out()\n",
        "    topn = sorted(zip(classifier.coef_[labelid], feature_names))[-n:]\n",
        "    for coef, feat in topn:\n",
        "        print (classlabel, feat, coef)\n",
        "most_informative_feature_for_class(tfidf_vectorizer, passive_tf, 'Pain')"
      ]
    },
    {
      "cell_type": "code",
      "execution_count": 83,
      "metadata": {
        "id": "m8Kl9evi_nM4"
      },
      "outputs": [],
      "source": [
        "import pickle\n",
        "with open('model.pkl', 'wb') as file:\n",
        "    pickle.dump(passive_tf, file)\n",
        "with open('vectorizer.pkl', 'wb') as f:\n",
        "    pickle.dump(tfidf_vectorizer, f)\n"
      ]
    },
    {
      "cell_type": "code",
      "execution_count": 84,
      "metadata": {},
      "outputs": [
        {
          "name": "stdout",
          "output_type": "stream",
          "text": [
            "text: Have tried Paxil and Lexapro which sent me into hyper-panic and GAD. I was about to give up on medicines and accept my miserable anxiety as a fact of life when my Doctor recommended Buspirone. I noticed my anxiety began to taper the second day I took the medication. No real side effects to speak of through my first week. The one thing it has delivered for me, HOPE! \n",
            "Condition: Anxiety\n",
            "Top 3 Suggested Drugs:\n",
            "Buspirone\n",
            "Gabapentin\n",
            "Neurontin\n",
            "\n",
            "text: 1 week on Zoloft for anxiety and mood swings. I take 50mg in the mornings with my breakfast. Nausea on day one  but that subsided as the week went on.  I get the jitters about 2 hrs after taking it followed by yawning. I feel much better though and less angry/stressed. \n",
            "Condition: Depression\n",
            "Top 3 Suggested Drugs:\n",
            "Vilazodone\n",
            "Zoloft\n",
            "Pristiq\n",
            "\n",
            "text: I&#039;m 30 years old.  I started having really bad skin about 2 years ago from maybe stress in my life.  But, I tried EVERYTHING to get rid of it and it just got worse.  I finally went to a dermatologist and she put me on spironolactone.  My skin started getting better in about two weeks. I LOVED it. I&#039;ve been taking it for about 6 months and I get compliments from Makeup artist and models (I&#039;m a hairstylist) about how good my skin is.  Another plus for me is my breasts went from a small B to a C! I decided to stop taking it for a week and my breasts went small again and my skin is getting a little oily. So I&#039;m going back on. I only take one a day. \n",
            "Condition: Acne\n",
            "Top 3 Suggested Drugs:\n",
            "Differin\n",
            "Isotretinoin\n",
            "Accutane\n",
            "\n",
            "text: I used to take another oral contraceptive, which had 21 pill cycle, and was very happy- very light periods, max 5 days, no other side effects. But it contained hormone gestodene, which is not available in US, so I switched to Lybrel, because the ingredients are similar. When my other pills ended, I started Lybrel immediately, on my first day of period, as the instructions said. And the period lasted for two weeks. When taking the second pack- same two weeks. And now, with third pack things got even worse- my third period lasted for two weeks and now it&#039;s the end of the third week- I still have daily brown discharge.\n",
            "The positive side is that I didn&#039;t have any other side effects. The idea of being period free was so tempting... Alas. \n",
            "Condition: Birth Control\n",
            "Top 3 Suggested Drugs:\n",
            "Mirena\n",
            "Levonorgestrel\n",
            "Implanon\n",
            "\n"
          ]
        }
      ],
      "source": [
        "def top_drugs_extractor(condition):\n",
        "    return df[(df['rating'] >= 9) & (df['usefulCount'] >= 90) & (df['condition'] == condition)] \\\n",
        "        .sort_values(by=['rating', 'usefulCount'], ascending=[False, False])['drugName'].head(7).tolist()\n",
        "def predict_and_print(text, label):\n",
        "    target_conditions = {\n",
        "        \"Depression\": \"Depression\",\n",
        "        \"Acne\": \"Acne\",\n",
        "        \"Anxiety\":\"Anxiety\",\n",
        "        # \"Pain\":\"Pain\",\n",
        "        \"Birth Control\": \"Birth Control\"\n",
        "    }\n",
        "\n",
        "    target = target_conditions.get(label, \"Unknown Condition\")\n",
        "\n",
        "    if target != \"Unknown Condition\":\n",
        "        top_drugs = top_drugs_extractor(target)\n",
        "        top_drugs = list(set(top_drugs))\n",
        "        print(\"text:\", text, \"\\nCondition:\", target)\n",
        "        print(\"Top 3 Suggested Drugs:\")\n",
        "        if len(top_drugs):\n",
        "            print(top_drugs[0])\n",
        "            print(top_drugs[1])\n",
        "            print(top_drugs[2])\n",
        "        else:\n",
        "            print(\"Not enough drugs for the specified condition.\")\n",
        "    else:\n",
        "        print(\"Can't recommend drugs when the condition is unknown.\")\n",
        "    print()\n",
        "\n",
        "# Sample sentences for recommending drugs\n",
        "sentences = [\n",
        "    # \"pain management doctor put  butrans patch week ago mg dose first box four lifesaver agony work able sleep two weekend two year hoping bump ten mg dose soon cut norco chronic pain many year many medicine including oxycontin patch best far\",\n",
        "    \"Have tried Paxil and Lexapro which sent me into hyper-panic and GAD. I was about to give up on medicines and accept my miserable anxiety as a fact of life when my Doctor recommended Buspirone. I noticed my anxiety began to taper the second day I took the medication. No real side effects to speak of through my first week. The one thing it has delivered for me, HOPE!\",\n",
        "    \"1 week on Zoloft for anxiety and mood swings. I take 50mg in the mornings with my breakfast. Nausea on day one  but that subsided as the week went on.  I get the jitters about 2 hrs after taking it followed by yawning. I feel much better though and less angry/stressed.\",\n",
        "    \"I&#039;m 30 years old.  I started having really bad skin about 2 years ago from maybe stress in my life.  But, I tried EVERYTHING to get rid of it and it just got worse.  I finally went to a dermatologist and she put me on spironolactone.  My skin started getting better in about two weeks. I LOVED it. I&#039;ve been taking it for about 6 months and I get compliments from Makeup artist and models (I&#039;m a hairstylist) about how good my skin is.  Another plus for me is my breasts went from a small B to a C! I decided to stop taking it for a week and my breasts went small again and my skin is getting a little oily. So I&#039;m going back on. I only take one a day.\",\n",
        "    \"I used to take another oral contraceptive, which had 21 pill cycle, and was very happy- very light periods, max 5 days, no other side effects. But it contained hormone gestodene, which is not available in US, so I switched to Lybrel, because the ingredients are similar. When my other pills ended, I started Lybrel immediately, on my first day of period, as the instructions said. And the period lasted for two weeks. When taking the second pack- same two weeks. And now, with third pack things got even worse- my third period lasted for two weeks and now it&#039;s the end of the third week- I still have daily brown discharge.\\r\\nThe positive side is that I didn&#039;t have any other side effects. The idea of being period free was so tempting... Alas.\"\n",
        "]\n",
        "\n",
        "tfidf_trigram = tfidf_vectorizer.transform(sentences)\n",
        "predictions = passive_tf.predict(tfidf_trigram)\n",
        "\n",
        "for text, label in zip(sentences, predictions):\n",
        "    predict_and_print(text, label)\n",
        "\n"
      ]
    },
    {
      "cell_type": "code",
      "execution_count": null,
      "metadata": {},
      "outputs": [],
      "source": []
    },
    {
      "cell_type": "code",
      "execution_count": null,
      "metadata": {},
      "outputs": [],
      "source": []
    }
  ],
  "metadata": {
    "colab": {
      "provenance": []
    },
    "kernelspec": {
      "display_name": "Python 3",
      "language": "python",
      "name": "python3"
    },
    "language_info": {
      "codemirror_mode": {
        "name": "ipython",
        "version": 3
      },
      "file_extension": ".py",
      "mimetype": "text/x-python",
      "name": "python",
      "nbconvert_exporter": "python",
      "pygments_lexer": "ipython3",
      "version": "3.10.11"
    }
  },
  "nbformat": 4,
  "nbformat_minor": 0
}
